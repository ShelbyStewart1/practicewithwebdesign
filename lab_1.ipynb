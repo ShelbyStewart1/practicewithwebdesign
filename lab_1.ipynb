{
  "nbformat": 4,
  "nbformat_minor": 0,
  "metadata": {
    "colab": {
      "name": "lab 1.ipynb",
      "provenance": [],
      "collapsed_sections": [],
      "authorship_tag": "ABX9TyM1PS/q9ET27602piVZXPDg",
      "include_colab_link": true
    },
    "kernelspec": {
      "name": "python3",
      "display_name": "Python 3"
    }
  },
  "cells": [
    {
      "cell_type": "markdown",
      "metadata": {
        "id": "view-in-github",
        "colab_type": "text"
      },
      "source": [
        "<a href=\"https://colab.research.google.com/github/ShelbyStewart1/practicewithwebdesign/blob/master/lab_1.ipynb\" target=\"_parent\"><img src=\"https://colab.research.google.com/assets/colab-badge.svg\" alt=\"Open In Colab\"/></a>"
      ]
    },
    {
      "cell_type": "markdown",
      "metadata": {
        "id": "ZVIYIOTU_MNR",
        "colab_type": "text"
      },
      "source": [
        ""
      ]
    },
    {
      "cell_type": "markdown",
      "metadata": {
        "id": "PE0GFJqO_Nlt",
        "colab_type": "text"
      },
      "source": [
        "## Do you like using jupyter notebook \n"
      ]
    },
    {
      "cell_type": "markdown",
      "metadata": {
        "id": "3K3zehVvLjy6",
        "colab_type": "text"
      },
      "source": [
        "Jupyter is very new to me. I am however excited to use it. "
      ]
    },
    {
      "cell_type": "markdown",
      "metadata": {
        "id": "x_BmgJA_A2TD",
        "colab_type": "text"
      },
      "source": [
        "## What do you want to learn more about in jupyter notebook"
      ]
    },
    {
      "cell_type": "markdown",
      "metadata": {
        "id": "ntnyh54BLxnf",
        "colab_type": "text"
      },
      "source": [
        "This is my first time using jupyter notebook. I would like to learn the basic functions."
      ]
    },
    {
      "cell_type": "markdown",
      "metadata": {
        "id": "L-7j6vNVMPI7",
        "colab_type": "text"
      },
      "source": [
        "![my dog](https:/raw.githubusercontent.com/ShelbyStewart1/practicewithwebdesign/master/images/IMG_8527.jpg)"
      ]
    },
    {
      "cell_type": "markdown",
      "metadata": {
        "id": "Wn6-YmlAyq5x",
        "colab_type": "text"
      },
      "source": [
        "\n"
      ]
    }
  ]
}